{
 "cells": [
  {
   "cell_type": "markdown",
   "metadata": {
    "colab_type": "text",
    "id": "eqiOYl7DC8Fo"
   },
   "source": [
    "# Neural Symbolic Learner"
   ]
  },
  {
   "cell_type": "markdown",
   "metadata": {
    "colab_type": "text",
    "id": "hmY6cIItVjvG"
   },
   "source": [
    "## Dependencies"
   ]
  },
  {
   "cell_type": "code",
   "execution_count": 1,
   "metadata": {
    "colab": {
     "base_uri": "https://localhost:8080/",
     "height": 168
    },
    "colab_type": "code",
    "id": "GYOlB1BY0KHc",
    "outputId": "d282410a-f368-4c8b-c887-bbf29c3b0df3"
   },
   "outputs": [
    {
     "name": "stdout",
     "output_type": "stream",
     "text": [
      "Requirement already satisfied: keras-rectified-adam in c:\\python310\\lib\\site-packages (0.20.0)\n",
      "Requirement already satisfied: keras.utils in c:\\python310\\lib\\site-packages (1.0.13)\n",
      "Requirement already satisfied: tqdm in c:\\python310\\lib\\site-packages (4.64.1)\n",
      "Requirement already satisfied: numpy in c:\\python310\\lib\\site-packages (1.22.2)\n",
      "Requirement already satisfied: pandas in c:\\python310\\lib\\site-packages (1.4.0)\n",
      "Requirement already satisfied: sklearn in c:\\python310\\lib\\site-packages (0.0)\n",
      "Requirement already satisfied: tensorflow in c:\\python310\\lib\\site-packages (2.10.0)\n"
     ]
    },
    {
     "name": "stderr",
     "output_type": "stream",
     "text": [
      "WARNING: Ignoring invalid distribution -p (c:\\python310\\lib\\site-packages)\n",
      "WARNING: Ignoring invalid distribution -p (c:\\python310\\lib\\site-packages)\n",
      "WARNING: Ignoring invalid distribution -ip (c:\\python310\\lib\\site-packages)\n",
      "WARNING: Ignoring invalid distribution - (c:\\python310\\lib\\site-packages)\n",
      "WARNING: Ignoring invalid distribution -p (c:\\python310\\lib\\site-packages)\n",
      "WARNING: Ignoring invalid distribution -p (c:\\python310\\lib\\site-packages)\n",
      "WARNING: Ignoring invalid distribution -ip (c:\\python310\\lib\\site-packages)\n",
      "WARNING: Ignoring invalid distribution - (c:\\python310\\lib\\site-packages)\n",
      "ERROR: Could not find a version that satisfies the requirement warnings (from versions: none)\n",
      "ERROR: No matching distribution found for warnings\n",
      "WARNING: Ignoring invalid distribution -p (c:\\python310\\lib\\site-packages)\n",
      "WARNING: Ignoring invalid distribution -p (c:\\python310\\lib\\site-packages)\n",
      "WARNING: Ignoring invalid distribution -ip (c:\\python310\\lib\\site-packages)\n",
      "WARNING: Ignoring invalid distribution - (c:\\python310\\lib\\site-packages)\n",
      "WARNING: Ignoring invalid distribution -p (c:\\python310\\lib\\site-packages)\n",
      "WARNING: Ignoring invalid distribution -p (c:\\python310\\lib\\site-packages)\n",
      "WARNING: Ignoring invalid distribution -ip (c:\\python310\\lib\\site-packages)\n",
      "WARNING: Ignoring invalid distribution - (c:\\python310\\lib\\site-packages)\n",
      "WARNING: Ignoring invalid distribution -p (c:\\python310\\lib\\site-packages)\n",
      "WARNING: Ignoring invalid distribution -p (c:\\python310\\lib\\site-packages)\n",
      "WARNING: Ignoring invalid distribution -ip (c:\\python310\\lib\\site-packages)\n",
      "WARNING: Ignoring invalid distribution - (c:\\python310\\lib\\site-packages)\n"
     ]
    },
    {
     "name": "stdout",
     "output_type": "stream",
     "text": [
      "Requirement already satisfied: matplotlib in c:\\python310\\lib\\site-packages (3.5.1)\n"
     ]
    }
   ],
   "source": [
    "!pip install keras-rectified-adam keras.utils tqdm numpy pandas sklearn tensorflow matplotlib warnings"
   ]
  },
  {
   "cell_type": "code",
   "execution_count": 2,
   "metadata": {
    "colab": {},
    "colab_type": "code",
    "id": "ny3mB825u0oM"
   },
   "outputs": [],
   "source": [
    "import tqdm\n",
    "import numpy as np\n",
    "import pandas as pd\n",
    "from sklearn.model_selection import LeaveOneOut\n",
    "import keras\n",
    "from tensorflow.keras.models import Sequential\n",
    "from keras.models import Sequential, Model\n",
    "from keras.layers import Dense, Input, concatenate\n",
    "from keras.losses import binary_crossentropy\n",
    "from keras.utils import plot_model\n",
    "from keras_radam import RAdam\n",
    "import matplotlib.pyplot as plt\n",
    "import warnings\n",
    "warnings.filterwarnings('ignore')\n"
   ]
  },
  {
   "cell_type": "code",
   "execution_count": null,
   "metadata": {
    "colab": {},
    "colab_type": "code",
    "id": "oGV8J8Mj1uhj"
   },
   "outputs": [],
   "source": [
    "from keras import backend as K\n",
    "import tensorflow as tf\n",
    "import numpy as np\n",
    "import random\n",
    "import os\n",
    "seed_value = 0\n",
    "\n",
    "# 1. Set `PYTHONHASHSEED` environment variable at a fixed value\n",
    "os.environ['PYTHONHASHSEED'] = str(seed_value)\n",
    "\n",
    "# 2. Set `python` built-in pseudo-random generator at a fixed value\n",
    "random.seed(seed_value)\n",
    "\n",
    "# 3. Set `numpy` pseudo-random generator at a fixed value\n",
    "np.random.seed(seed_value)\n",
    "\n",
    "# 4. Set `tensorflow` pseudo-random generator at a fixed value\n",
    "tf.random.set_seed(seed_value)\n",
    "\n",
    "# 5. Configure a new global `tensorflow` session\n",
    "session_conf = tf.compat.v1.ConfigProto(\n",
    "    intra_op_parallelism_threads=1, inter_op_parallelism_threads=1)\n",
    "sess = tf.compat.v1.Session(\n",
    "    graph=tf.compat.v1.get_default_graph(), config=session_conf)\n",
    "K.set_session(sess)\n"
   ]
  },
  {
   "cell_type": "markdown",
   "metadata": {
    "colab_type": "text",
    "id": "roshxLlK-K5g"
   },
   "source": [
    "## Import Data from CSV"
   ]
  },
  {
   "cell_type": "code",
   "execution_count": 33,
   "metadata": {
    "colab": {
     "base_uri": "https://localhost:8080/",
     "height": 363
    },
    "colab_type": "code",
    "id": "cckTOFsQ1X22",
    "outputId": "17520310-241e-4a19-9103-495be7fbc3a4"
   },
   "outputs": [
    {
     "data": {
      "text/html": [
       "<div>\n",
       "<style scoped>\n",
       "    .dataframe tbody tr th:only-of-type {\n",
       "        vertical-align: middle;\n",
       "    }\n",
       "\n",
       "    .dataframe tbody tr th {\n",
       "        vertical-align: top;\n",
       "    }\n",
       "\n",
       "    .dataframe thead th {\n",
       "        text-align: right;\n",
       "    }\n",
       "</style>\n",
       "<table border=\"1\" class=\"dataframe\">\n",
       "  <thead>\n",
       "    <tr style=\"text-align: right;\">\n",
       "      <th></th>\n",
       "      <th>Number_of_cars</th>\n",
       "      <th>Number_of_different_loads</th>\n",
       "      <th>num_wheels1</th>\n",
       "      <th>length1</th>\n",
       "      <th>shape1</th>\n",
       "      <th>num_loads1</th>\n",
       "      <th>load_shape1</th>\n",
       "      <th>num_wheels2</th>\n",
       "      <th>length2</th>\n",
       "      <th>shape2</th>\n",
       "      <th>num_loads2</th>\n",
       "      <th>load_shape2</th>\n",
       "      <th>num_wheels3</th>\n",
       "      <th>length3</th>\n",
       "      <th>shape3</th>\n",
       "      <th>num_loads3</th>\n",
       "      <th>load_shape3</th>\n",
       "      <th>num_wheels4</th>\n",
       "      <th>length4</th>\n",
       "      <th>shape4</th>\n",
       "      <th>num_loads4</th>\n",
       "      <th>load_shape4</th>\n",
       "      <th>Rectangle_next_to_rectangle</th>\n",
       "      <th>Rectangle_next_to_triangle</th>\n",
       "      <th>Rectangle_next_to_hexagon</th>\n",
       "      <th>Rectangle_next_to_circle</th>\n",
       "      <th>Triangle_next_to_triangle</th>\n",
       "      <th>Triangle_next_to_hexagon</th>\n",
       "      <th>Triangle_next_to_circle</th>\n",
       "      <th>Hexagon_next_to_hexagon</th>\n",
       "      <th>Hexagon_next_to_circle</th>\n",
       "      <th>Circle_next_to_circle</th>\n",
       "      <th>Class_attribute</th>\n",
       "    </tr>\n",
       "  </thead>\n",
       "  <tbody>\n",
       "    <tr>\n",
       "      <th>0</th>\n",
       "      <td>5</td>\n",
       "      <td>4</td>\n",
       "      <td>2</td>\n",
       "      <td>1</td>\n",
       "      <td>6</td>\n",
       "      <td>3</td>\n",
       "      <td>2</td>\n",
       "      <td>2</td>\n",
       "      <td>0</td>\n",
       "      <td>8</td>\n",
       "      <td>1</td>\n",
       "      <td>3</td>\n",
       "      <td>3</td>\n",
       "      <td>1</td>\n",
       "      <td>6</td>\n",
       "      <td>1</td>\n",
       "      <td>1</td>\n",
       "      <td>2</td>\n",
       "      <td>0</td>\n",
       "      <td>6</td>\n",
       "      <td>1</td>\n",
       "      <td>0</td>\n",
       "      <td>0</td>\n",
       "      <td>1</td>\n",
       "      <td>0</td>\n",
       "      <td>0</td>\n",
       "      <td>0</td>\n",
       "      <td>1</td>\n",
       "      <td>0</td>\n",
       "      <td>0</td>\n",
       "      <td>1</td>\n",
       "      <td>0</td>\n",
       "      <td>1</td>\n",
       "    </tr>\n",
       "    <tr>\n",
       "      <th>1</th>\n",
       "      <td>4</td>\n",
       "      <td>3</td>\n",
       "      <td>2</td>\n",
       "      <td>0</td>\n",
       "      <td>9</td>\n",
       "      <td>1</td>\n",
       "      <td>3</td>\n",
       "      <td>2</td>\n",
       "      <td>0</td>\n",
       "      <td>7</td>\n",
       "      <td>1</td>\n",
       "      <td>2</td>\n",
       "      <td>2</td>\n",
       "      <td>0</td>\n",
       "      <td>0</td>\n",
       "      <td>2</td>\n",
       "      <td>0</td>\n",
       "      <td>-1</td>\n",
       "      <td>-1</td>\n",
       "      <td>-1</td>\n",
       "      <td>-1</td>\n",
       "      <td>-1</td>\n",
       "      <td>0</td>\n",
       "      <td>1</td>\n",
       "      <td>0</td>\n",
       "      <td>1</td>\n",
       "      <td>0</td>\n",
       "      <td>0</td>\n",
       "      <td>0</td>\n",
       "      <td>0</td>\n",
       "      <td>0</td>\n",
       "      <td>0</td>\n",
       "      <td>1</td>\n",
       "    </tr>\n",
       "    <tr>\n",
       "      <th>2</th>\n",
       "      <td>4</td>\n",
       "      <td>2</td>\n",
       "      <td>2</td>\n",
       "      <td>0</td>\n",
       "      <td>6</td>\n",
       "      <td>1</td>\n",
       "      <td>0</td>\n",
       "      <td>2</td>\n",
       "      <td>0</td>\n",
       "      <td>4</td>\n",
       "      <td>1</td>\n",
       "      <td>3</td>\n",
       "      <td>3</td>\n",
       "      <td>1</td>\n",
       "      <td>0</td>\n",
       "      <td>1</td>\n",
       "      <td>3</td>\n",
       "      <td>-1</td>\n",
       "      <td>-1</td>\n",
       "      <td>-1</td>\n",
       "      <td>-1</td>\n",
       "      <td>-1</td>\n",
       "      <td>0</td>\n",
       "      <td>0</td>\n",
       "      <td>0</td>\n",
       "      <td>0</td>\n",
       "      <td>1</td>\n",
       "      <td>0</td>\n",
       "      <td>1</td>\n",
       "      <td>0</td>\n",
       "      <td>0</td>\n",
       "      <td>0</td>\n",
       "      <td>1</td>\n",
       "    </tr>\n",
       "    <tr>\n",
       "      <th>3</th>\n",
       "      <td>5</td>\n",
       "      <td>2</td>\n",
       "      <td>2</td>\n",
       "      <td>0</td>\n",
       "      <td>7</td>\n",
       "      <td>1</td>\n",
       "      <td>3</td>\n",
       "      <td>2</td>\n",
       "      <td>0</td>\n",
       "      <td>1</td>\n",
       "      <td>1</td>\n",
       "      <td>3</td>\n",
       "      <td>2</td>\n",
       "      <td>0</td>\n",
       "      <td>2</td>\n",
       "      <td>1</td>\n",
       "      <td>2</td>\n",
       "      <td>2</td>\n",
       "      <td>0</td>\n",
       "      <td>6</td>\n",
       "      <td>1</td>\n",
       "      <td>2</td>\n",
       "      <td>1</td>\n",
       "      <td>1</td>\n",
       "      <td>0</td>\n",
       "      <td>0</td>\n",
       "      <td>1</td>\n",
       "      <td>0</td>\n",
       "      <td>0</td>\n",
       "      <td>0</td>\n",
       "      <td>0</td>\n",
       "      <td>0</td>\n",
       "      <td>1</td>\n",
       "    </tr>\n",
       "    <tr>\n",
       "      <th>4</th>\n",
       "      <td>4</td>\n",
       "      <td>3</td>\n",
       "      <td>2</td>\n",
       "      <td>0</td>\n",
       "      <td>1</td>\n",
       "      <td>1</td>\n",
       "      <td>3</td>\n",
       "      <td>3</td>\n",
       "      <td>1</td>\n",
       "      <td>0</td>\n",
       "      <td>1</td>\n",
       "      <td>2</td>\n",
       "      <td>2</td>\n",
       "      <td>0</td>\n",
       "      <td>0</td>\n",
       "      <td>1</td>\n",
       "      <td>0</td>\n",
       "      <td>-1</td>\n",
       "      <td>-1</td>\n",
       "      <td>-1</td>\n",
       "      <td>-1</td>\n",
       "      <td>-1</td>\n",
       "      <td>0</td>\n",
       "      <td>1</td>\n",
       "      <td>0</td>\n",
       "      <td>1</td>\n",
       "      <td>0</td>\n",
       "      <td>0</td>\n",
       "      <td>0</td>\n",
       "      <td>0</td>\n",
       "      <td>0</td>\n",
       "      <td>0</td>\n",
       "      <td>1</td>\n",
       "    </tr>\n",
       "    <tr>\n",
       "      <th>5</th>\n",
       "      <td>3</td>\n",
       "      <td>2</td>\n",
       "      <td>2</td>\n",
       "      <td>1</td>\n",
       "      <td>0</td>\n",
       "      <td>3</td>\n",
       "      <td>0</td>\n",
       "      <td>2</td>\n",
       "      <td>0</td>\n",
       "      <td>6</td>\n",
       "      <td>1</td>\n",
       "      <td>3</td>\n",
       "      <td>-1</td>\n",
       "      <td>-1</td>\n",
       "      <td>-1</td>\n",
       "      <td>-1</td>\n",
       "      <td>-1</td>\n",
       "      <td>-1</td>\n",
       "      <td>-1</td>\n",
       "      <td>-1</td>\n",
       "      <td>-1</td>\n",
       "      <td>-1</td>\n",
       "      <td>0</td>\n",
       "      <td>0</td>\n",
       "      <td>0</td>\n",
       "      <td>0</td>\n",
       "      <td>0</td>\n",
       "      <td>0</td>\n",
       "      <td>1</td>\n",
       "      <td>0</td>\n",
       "      <td>0</td>\n",
       "      <td>0</td>\n",
       "      <td>0</td>\n",
       "    </tr>\n",
       "    <tr>\n",
       "      <th>6</th>\n",
       "      <td>4</td>\n",
       "      <td>2</td>\n",
       "      <td>2</td>\n",
       "      <td>0</td>\n",
       "      <td>1</td>\n",
       "      <td>1</td>\n",
       "      <td>0</td>\n",
       "      <td>2</td>\n",
       "      <td>0</td>\n",
       "      <td>9</td>\n",
       "      <td>1</td>\n",
       "      <td>3</td>\n",
       "      <td>2</td>\n",
       "      <td>1</td>\n",
       "      <td>5</td>\n",
       "      <td>0</td>\n",
       "      <td>-1</td>\n",
       "      <td>-1</td>\n",
       "      <td>-1</td>\n",
       "      <td>-1</td>\n",
       "      <td>-1</td>\n",
       "      <td>-1</td>\n",
       "      <td>0</td>\n",
       "      <td>0</td>\n",
       "      <td>0</td>\n",
       "      <td>0</td>\n",
       "      <td>0</td>\n",
       "      <td>0</td>\n",
       "      <td>1</td>\n",
       "      <td>0</td>\n",
       "      <td>0</td>\n",
       "      <td>0</td>\n",
       "      <td>0</td>\n",
       "    </tr>\n",
       "    <tr>\n",
       "      <th>7</th>\n",
       "      <td>3</td>\n",
       "      <td>2</td>\n",
       "      <td>3</td>\n",
       "      <td>1</td>\n",
       "      <td>0</td>\n",
       "      <td>1</td>\n",
       "      <td>2</td>\n",
       "      <td>2</td>\n",
       "      <td>0</td>\n",
       "      <td>9</td>\n",
       "      <td>1</td>\n",
       "      <td>0</td>\n",
       "      <td>-1</td>\n",
       "      <td>-1</td>\n",
       "      <td>-1</td>\n",
       "      <td>-1</td>\n",
       "      <td>-1</td>\n",
       "      <td>-1</td>\n",
       "      <td>-1</td>\n",
       "      <td>-1</td>\n",
       "      <td>-1</td>\n",
       "      <td>-1</td>\n",
       "      <td>0</td>\n",
       "      <td>0</td>\n",
       "      <td>0</td>\n",
       "      <td>1</td>\n",
       "      <td>0</td>\n",
       "      <td>0</td>\n",
       "      <td>0</td>\n",
       "      <td>0</td>\n",
       "      <td>0</td>\n",
       "      <td>0</td>\n",
       "      <td>0</td>\n",
       "    </tr>\n",
       "    <tr>\n",
       "      <th>8</th>\n",
       "      <td>5</td>\n",
       "      <td>2</td>\n",
       "      <td>2</td>\n",
       "      <td>0</td>\n",
       "      <td>7</td>\n",
       "      <td>1</td>\n",
       "      <td>0</td>\n",
       "      <td>2</td>\n",
       "      <td>1</td>\n",
       "      <td>5</td>\n",
       "      <td>1</td>\n",
       "      <td>2</td>\n",
       "      <td>2</td>\n",
       "      <td>0</td>\n",
       "      <td>6</td>\n",
       "      <td>1</td>\n",
       "      <td>2</td>\n",
       "      <td>2</td>\n",
       "      <td>0</td>\n",
       "      <td>7</td>\n",
       "      <td>1</td>\n",
       "      <td>0</td>\n",
       "      <td>1</td>\n",
       "      <td>0</td>\n",
       "      <td>0</td>\n",
       "      <td>1</td>\n",
       "      <td>0</td>\n",
       "      <td>0</td>\n",
       "      <td>0</td>\n",
       "      <td>0</td>\n",
       "      <td>0</td>\n",
       "      <td>0</td>\n",
       "      <td>0</td>\n",
       "    </tr>\n",
       "    <tr>\n",
       "      <th>9</th>\n",
       "      <td>3</td>\n",
       "      <td>1</td>\n",
       "      <td>2</td>\n",
       "      <td>0</td>\n",
       "      <td>9</td>\n",
       "      <td>1</td>\n",
       "      <td>2</td>\n",
       "      <td>2</td>\n",
       "      <td>1</td>\n",
       "      <td>6</td>\n",
       "      <td>2</td>\n",
       "      <td>2</td>\n",
       "      <td>-1</td>\n",
       "      <td>-1</td>\n",
       "      <td>-1</td>\n",
       "      <td>-1</td>\n",
       "      <td>-1</td>\n",
       "      <td>-1</td>\n",
       "      <td>-1</td>\n",
       "      <td>-1</td>\n",
       "      <td>-1</td>\n",
       "      <td>-1</td>\n",
       "      <td>1</td>\n",
       "      <td>0</td>\n",
       "      <td>0</td>\n",
       "      <td>0</td>\n",
       "      <td>0</td>\n",
       "      <td>0</td>\n",
       "      <td>0</td>\n",
       "      <td>0</td>\n",
       "      <td>0</td>\n",
       "      <td>0</td>\n",
       "      <td>0</td>\n",
       "    </tr>\n",
       "  </tbody>\n",
       "</table>\n",
       "</div>"
      ],
      "text/plain": [
       "   Number_of_cars  ...  Class_attribute\n",
       "0               5  ...                1\n",
       "1               4  ...                1\n",
       "2               4  ...                1\n",
       "3               5  ...                1\n",
       "4               4  ...                1\n",
       "5               3  ...                0\n",
       "6               4  ...                0\n",
       "7               3  ...                0\n",
       "8               5  ...                0\n",
       "9               3  ...                0\n",
       "\n",
       "[10 rows x 33 columns]"
      ]
     },
     "execution_count": 33,
     "metadata": {
      "tags": []
     },
     "output_type": "execute_result"
    }
   ],
   "source": [
    "# path to the data\n",
    "path = 'trains-data.csv'\n",
    "str_att = {\n",
    "    'length': ['short', 'long'],\n",
    "    'shape': ['closedrect', 'dblopnrect', 'ellipse', 'engine', 'hexagon',\n",
    "              'jaggedtop', 'openrect', 'opentrap', 'slopetop', 'ushaped'],\n",
    "    'load_shape': ['circlelod', 'hexagonlod', 'rectanglod', 'trianglod'],\n",
    "    'Class_attribute': ['west', 'east']\n",
    "}\n",
    "\n",
    "\n",
    "def read_data(path=path):\n",
    "    df = pd.read_csv(path, ',')\n",
    "\n",
    "    for k in df:\n",
    "        for att in str_att:\n",
    "            if k.startswith(att):\n",
    "                for i, val in enumerate(df[k]):\n",
    "                    if val in str_att[att]:\n",
    "                        df[k][i] = str_att[att].index(val)\n",
    "\n",
    "    df.replace(\"\\\\0\", 0, inplace=True)\n",
    "    df.replace(\"None\", -1, inplace=True)\n",
    "\n",
    "    return df\n",
    "\n",
    "\n",
    "df = read_data()\n",
    "df\n"
   ]
  },
  {
   "cell_type": "markdown",
   "metadata": {
    "colab_type": "text",
    "id": "wwsqEU0csS6W"
   },
   "source": [
    "## Question 1.\n",
    "\n",
    "Implemente uma solução que implemente proposicionalização com 32 neurônios\n",
    "de entrada e uma única saída (denotando leste)."
   ]
  },
  {
   "cell_type": "code",
   "execution_count": null,
   "metadata": {
    "colab": {},
    "colab_type": "code",
    "id": "yaDwHppC0UHM"
   },
   "outputs": [],
   "source": [
    "# get data\n",
    "df = read_data()\n",
    "Y = np.array(df.pop('Class_attribute'))\n",
    "X = np.array(df)"
   ]
  },
  {
   "cell_type": "markdown",
   "metadata": {
    "colab_type": "text",
    "id": "bPpFYhh9BA9p"
   },
   "source": [
    "### Akin Propositionalization Model"
   ]
  },
  {
   "cell_type": "code",
   "execution_count": 54,
   "metadata": {
    "colab": {
     "base_uri": "https://localhost:8080/",
     "height": 218
    },
    "colab_type": "code",
    "id": "C89Uzm__GiDK",
    "outputId": "a88f0c3f-7517-4be6-c76e-a355848b67a6"
   },
   "outputs": [
    {
     "name": "stdout",
     "output_type": "stream",
     "text": [
      "Model: \"sequential_23\"\n",
      "_________________________________________________________________\n",
      "Layer (type)                 Output Shape              Param #   \n",
      "=================================================================\n",
      "dense_81 (Dense)             (None, 9)                 297       \n",
      "_________________________________________________________________\n",
      "dense_82 (Dense)             (None, 1)                 10        \n",
      "=================================================================\n",
      "Total params: 307\n",
      "Trainable params: 307\n",
      "Non-trainable params: 0\n",
      "_________________________________________________________________\n"
     ]
    }
   ],
   "source": [
    "# define model\n",
    "def model_1():\n",
    "    model = Sequential([\n",
    "        Dense(9, activation='relu', input_shape=(len(df.keys()),)),\n",
    "        Dense(1, activation='sigmoid'),\n",
    "    ])\n",
    "    model.compile(\n",
    "        loss=binary_crossentropy,\n",
    "        optimizer=RAdam(),\n",
    "        metrics=['mse', 'binary_accuracy']\n",
    "    )\n",
    "    return model\n",
    "\n",
    "\n",
    "es = keras.callbacks.EarlyStopping(\n",
    "    monitor='val_loss', min_delta=0, patience=1000, verbose=0)\n",
    "\n",
    "model = model_1()\n",
    "model.summary()\n"
   ]
  },
  {
   "cell_type": "code",
   "execution_count": 56,
   "metadata": {
    "colab": {
     "base_uri": "https://localhost:8080/",
     "height": 312
    },
    "colab_type": "code",
    "id": "NT_PmyXd-rpo",
    "outputId": "aab927f6-4894-438e-f04a-9c89ef2e4f1d"
   },
   "outputs": [
    {
     "data": {
      "image/png": "[encoded data removed]",
      "text/plain": [
       "<IPython.core.display.Image object>"
      ]
     },
     "execution_count": 56,
     "metadata": {
      "tags": []
     },
     "output_type": "execute_result"
    }
   ],
   "source": [
    "plot_model(model, show_shapes=True, show_layer_names=False)"
   ]
  },
  {
   "cell_type": "markdown",
   "metadata": {
    "colab_type": "text",
    "id": "PKLXNbidBODc"
   },
   "source": [
    "### Train"
   ]
  },
  {
   "cell_type": "code",
   "execution_count": 57,
   "metadata": {
    "colab": {
     "base_uri": "https://localhost:8080/",
     "height": 34
    },
    "colab_type": "code",
    "id": "5I58Rg1Nq4Zf",
    "outputId": "99eacd87-ea03-4392-f3d2-07837cb6805c"
   },
   "outputs": [
    {
     "name": "stderr",
     "output_type": "stream",
     "text": [
      "100%|██████████| 10/10 [03:41<00:00, 22.71s/it]\n"
     ]
    }
   ],
   "source": [
    "# train\n",
    "leaveOneOut = LeaveOneOut()\n",
    "hists = dict()\n",
    "question_1_names = [\n",
    "    'Train',\n",
    "    'Output of flat network',\n",
    "    ' Desired output',\n",
    "    'Class'\n",
    "]\n",
    "question_1 = {name: [] for name in question_1_names}\n",
    "\n",
    "for i, (train, test) in tqdm.tqdm(enumerate(leaveOneOut.split(X)), total=10):\n",
    "\n",
    "    x_train = np.asarray(X[train]).astype(np.int)\n",
    "    y_train = np.asarray(Y[train]).astype(np.int)\n",
    "    x_test = np.asarray(X[test]).astype(np.int)\n",
    "    y_test = np.asarray(Y[test]).astype(np.int)\n",
    "\n",
    "    model = model_1()\n",
    "    hist = model.fit(\n",
    "        x_train,\n",
    "        y_train,\n",
    "        validation_data=[x_test, y_test],\n",
    "        epochs=10000,\n",
    "        verbose=0,\n",
    "    )\n",
    "    hists[test[0]] = hist\n",
    "\n",
    "    question_1['Train'].append(i)\n",
    "    question_1['Output of flat network'].append(model.predict(x_test)[0][0])\n",
    "    question_1[' Desired output'].append(y_test[0])\n",
    "    question_1['Class'].append(str_att['Class_attribute'][int(y_test)])\n"
   ]
  },
  {
   "cell_type": "markdown",
   "metadata": {
    "colab_type": "text",
    "id": "ooYmO1ghBXPk"
   },
   "source": [
    "### Results"
   ]
  },
  {
   "cell_type": "code",
   "execution_count": 61,
   "metadata": {
    "colab": {
     "base_uri": "https://localhost:8080/",
     "height": 295
    },
    "colab_type": "code",
    "id": "BOW6B2jpBVRu",
    "outputId": "831a14c9-f4d0-43c5-d16c-0b21a7b12642"
   },
   "outputs": [
    {
     "data": {
      "image/png": "[encoded data removed]",
      "text/plain": [
       "<Figure size 432x288 with 1 Axes>"
      ]
     },
     "metadata": {
      "tags": []
     },
     "output_type": "display_data"
    }
   ],
   "source": [
    "for i, history in enumerate(hists.values()):\n",
    "    plt.plot(history.history['mse'], c='tab:blue')\n",
    "    plt.plot(history.history['val_mse'], c='tab:orange')\n",
    "\n",
    "plt.title('model mean_squared_error')\n",
    "plt.ylabel('MSE')\n",
    "plt.xlabel('epoch')\n",
    "plt.legend(['train', 'val'], loc='upper left')\n",
    "plt.show()\n"
   ]
  },
  {
   "cell_type": "code",
   "execution_count": 62,
   "metadata": {
    "colab": {
     "base_uri": "https://localhost:8080/",
     "height": 295
    },
    "colab_type": "code",
    "id": "j4wSFPMHSq9i",
    "outputId": "55197f4c-fc1d-4889-ffe9-f566eb4d6cc8"
   },
   "outputs": [
    {
     "data": {
      "image/png": "[encoded data removed]",
      "text/plain": [
       "<Figure size 432x288 with 1 Axes>"
      ]
     },
     "metadata": {
      "tags": []
     },
     "output_type": "display_data"
    }
   ],
   "source": [
    "for i, history in enumerate(hists.values()):\n",
    "    plt.plot(history.history['binary_accuracy'], c='tab:blue')\n",
    "    plt.plot(history.history['val_binary_accuracy'], c='tab:orange')\n",
    "\n",
    "plt.title('model binary_accuracy')\n",
    "plt.ylabel('MSE')\n",
    "plt.xlabel('epoch')\n",
    "plt.legend(['train', 'val'], loc='upper left')\n",
    "plt.show()\n"
   ]
  },
  {
   "cell_type": "code",
   "execution_count": 63,
   "metadata": {
    "colab": {
     "base_uri": "https://localhost:8080/",
     "height": 343
    },
    "colab_type": "code",
    "id": "DCfn0mjGwdrn",
    "outputId": "f3edfddc-09ec-4a99-9ee5-e93ccf49a5f7"
   },
   "outputs": [
    {
     "data": {
      "text/html": [
       "<div>\n",
       "<style scoped>\n",
       "    .dataframe tbody tr th:only-of-type {\n",
       "        vertical-align: middle;\n",
       "    }\n",
       "\n",
       "    .dataframe tbody tr th {\n",
       "        vertical-align: top;\n",
       "    }\n",
       "\n",
       "    .dataframe thead th {\n",
       "        text-align: right;\n",
       "    }\n",
       "</style>\n",
       "<table border=\"1\" class=\"dataframe\">\n",
       "  <thead>\n",
       "    <tr style=\"text-align: right;\">\n",
       "      <th></th>\n",
       "      <th>Train</th>\n",
       "      <th>Output of flat network</th>\n",
       "      <th>Desired output</th>\n",
       "      <th>Class</th>\n",
       "    </tr>\n",
       "  </thead>\n",
       "  <tbody>\n",
       "    <tr>\n",
       "      <th>0</th>\n",
       "      <td>0</td>\n",
       "      <td>0.00</td>\n",
       "      <td>1</td>\n",
       "      <td>east</td>\n",
       "    </tr>\n",
       "    <tr>\n",
       "      <th>1</th>\n",
       "      <td>1</td>\n",
       "      <td>1.00</td>\n",
       "      <td>1</td>\n",
       "      <td>east</td>\n",
       "    </tr>\n",
       "    <tr>\n",
       "      <th>2</th>\n",
       "      <td>2</td>\n",
       "      <td>1.00</td>\n",
       "      <td>1</td>\n",
       "      <td>east</td>\n",
       "    </tr>\n",
       "    <tr>\n",
       "      <th>3</th>\n",
       "      <td>3</td>\n",
       "      <td>0.83</td>\n",
       "      <td>1</td>\n",
       "      <td>east</td>\n",
       "    </tr>\n",
       "    <tr>\n",
       "      <th>4</th>\n",
       "      <td>4</td>\n",
       "      <td>0.99</td>\n",
       "      <td>1</td>\n",
       "      <td>east</td>\n",
       "    </tr>\n",
       "    <tr>\n",
       "      <th>5</th>\n",
       "      <td>5</td>\n",
       "      <td>0.00</td>\n",
       "      <td>0</td>\n",
       "      <td>west</td>\n",
       "    </tr>\n",
       "    <tr>\n",
       "      <th>6</th>\n",
       "      <td>6</td>\n",
       "      <td>0.03</td>\n",
       "      <td>0</td>\n",
       "      <td>west</td>\n",
       "    </tr>\n",
       "    <tr>\n",
       "      <th>7</th>\n",
       "      <td>7</td>\n",
       "      <td>0.00</td>\n",
       "      <td>0</td>\n",
       "      <td>west</td>\n",
       "    </tr>\n",
       "    <tr>\n",
       "      <th>8</th>\n",
       "      <td>8</td>\n",
       "      <td>1.00</td>\n",
       "      <td>0</td>\n",
       "      <td>west</td>\n",
       "    </tr>\n",
       "    <tr>\n",
       "      <th>9</th>\n",
       "      <td>9</td>\n",
       "      <td>0.00</td>\n",
       "      <td>0</td>\n",
       "      <td>west</td>\n",
       "    </tr>\n",
       "  </tbody>\n",
       "</table>\n",
       "</div>"
      ],
      "text/plain": [
       "   Train  Output of flat network   Desired output Class\n",
       "0      0                    0.00                1  east\n",
       "1      1                    1.00                1  east\n",
       "2      2                    1.00                1  east\n",
       "3      3                    0.83                1  east\n",
       "4      4                    0.99                1  east\n",
       "5      5                    0.00                0  west\n",
       "6      6                    0.03                0  west\n",
       "7      7                    0.00                0  west\n",
       "8      8                    1.00                0  west\n",
       "9      9                    0.00                0  west"
      ]
     },
     "execution_count": 63,
     "metadata": {
      "tags": []
     },
     "output_type": "execute_result"
    }
   ],
   "source": [
    "train_1 = pd.DataFrame.from_dict(question_1).round(2)\n",
    "train_1\n"
   ]
  },
  {
   "cell_type": "markdown",
   "metadata": {
    "colab_type": "text",
    "id": "BuAayJMpGkRN"
   },
   "source": [
    "## Question 2\n",
    "\n",
    "Implemente uma solução com base no modelo de aprendizado relacional contendo meta-redes para conectar conceitos das premissas. Este modelos deve conter 11 redes, uma para cada um dos seguintes conceitos conforme definição das páginas 136 e 137:"
   ]
  },
  {
   "cell_type": "markdown",
   "metadata": {
    "colab_type": "text",
    "id": "Z0PBb8FV1NEu"
   },
   "source": [
    "### metanet"
   ]
  },
  {
   "cell_type": "code",
   "execution_count": 46,
   "metadata": {
    "colab": {
     "base_uri": "https://localhost:8080/",
     "height": 1000
    },
    "colab_type": "code",
    "id": "FCnTuECIFvuJ",
    "outputId": "917263b8-ea59-4eeb-9f8d-86854952bc27"
   },
   "outputs": [
    {
     "name": "stdout",
     "output_type": "stream",
     "text": [
      "Model: \"model_39\"\n",
      "__________________________________________________________________________________________________\n",
      "Layer (type)                    Output Shape         Param #     Connected to                     \n",
      "==================================================================================================\n",
      "t (InputLayer)                  (None, 1)            0                                            \n",
      "__________________________________________________________________________________________________\n",
      "nc (InputLayer)                 (None, 1)            0                                            \n",
      "__________________________________________________________________________________________________\n",
      "nl (InputLayer)                 (None, 1)            0                                            \n",
      "__________________________________________________________________________________________________\n",
      "c (InputLayer)                  (None, 1)            0                                            \n",
      "__________________________________________________________________________________________________\n",
      "w (InputLayer)                  (None, 1)            0                                            \n",
      "__________________________________________________________________________________________________\n",
      "l (InputLayer)                  (None, 1)            0                                            \n",
      "__________________________________________________________________________________________________\n",
      "s (InputLayer)                  (None, 1)            0                                            \n",
      "__________________________________________________________________________________________________\n",
      "ncl (InputLayer)                (None, 1)            0                                            \n",
      "__________________________________________________________________________________________________\n",
      "ls (InputLayer)                 (None, 1)            0                                            \n",
      "__________________________________________________________________________________________________\n",
      "x_crc (InputLayer)              (None, 1)            0                                            \n",
      "__________________________________________________________________________________________________\n",
      "x_hex (InputLayer)              (None, 1)            0                                            \n",
      "__________________________________________________________________________________________________\n",
      "x_rec (InputLayer)              (None, 1)            0                                            \n",
      "__________________________________________________________________________________________________\n",
      "x_tri (InputLayer)              (None, 1)            0                                            \n",
      "__________________________________________________________________________________________________\n",
      "concatenate_25 (Concatenate)    (None, 2)            0           t[0][0]                          \n",
      "                                                                 nc[0][0]                         \n",
      "__________________________________________________________________________________________________\n",
      "concatenate_26 (Concatenate)    (None, 2)            0           t[0][0]                          \n",
      "                                                                 nl[0][0]                         \n",
      "__________________________________________________________________________________________________\n",
      "concatenate_27 (Concatenate)    (None, 3)            0           t[0][0]                          \n",
      "                                                                 c[0][0]                          \n",
      "                                                                 w[0][0]                          \n",
      "__________________________________________________________________________________________________\n",
      "concatenate_28 (Concatenate)    (None, 3)            0           t[0][0]                          \n",
      "                                                                 c[0][0]                          \n",
      "                                                                 l[0][0]                          \n",
      "__________________________________________________________________________________________________\n",
      "concatenate_29 (Concatenate)    (None, 3)            0           t[0][0]                          \n",
      "                                                                 c[0][0]                          \n",
      "                                                                 s[0][0]                          \n",
      "__________________________________________________________________________________________________\n",
      "concatenate_30 (Concatenate)    (None, 3)            0           t[0][0]                          \n",
      "                                                                 c[0][0]                          \n",
      "                                                                 ncl[0][0]                        \n",
      "__________________________________________________________________________________________________\n",
      "concatenate_31 (Concatenate)    (None, 3)            0           t[0][0]                          \n",
      "                                                                 c[0][0]                          \n",
      "                                                                 ls[0][0]                         \n",
      "__________________________________________________________________________________________________\n",
      "concatenate_32 (Concatenate)    (None, 3)            0           t[0][0]                          \n",
      "                                                                 c[0][0]                          \n",
      "                                                                 x_crc[0][0]                      \n",
      "__________________________________________________________________________________________________\n",
      "concatenate_33 (Concatenate)    (None, 3)            0           t[0][0]                          \n",
      "                                                                 c[0][0]                          \n",
      "                                                                 x_hex[0][0]                      \n",
      "__________________________________________________________________________________________________\n",
      "concatenate_34 (Concatenate)    (None, 3)            0           t[0][0]                          \n",
      "                                                                 c[0][0]                          \n",
      "                                                                 x_rec[0][0]                      \n",
      "__________________________________________________________________________________________________\n",
      "concatenate_35 (Concatenate)    (None, 3)            0           t[0][0]                          \n",
      "                                                                 c[0][0]                          \n",
      "                                                                 x_tri[0][0]                      \n",
      "__________________________________________________________________________________________________\n",
      "dense_69 (Dense)                (None, 20)           60          concatenate_25[0][0]             \n",
      "__________________________________________________________________________________________________\n",
      "dense_70 (Dense)                (None, 20)           60          concatenate_26[0][0]             \n",
      "__________________________________________________________________________________________________\n",
      "dense_71 (Dense)                (None, 20)           80          concatenate_27[0][0]             \n",
      "__________________________________________________________________________________________________\n",
      "dense_72 (Dense)                (None, 20)           80          concatenate_28[0][0]             \n",
      "__________________________________________________________________________________________________\n",
      "dense_73 (Dense)                (None, 20)           80          concatenate_29[0][0]             \n",
      "__________________________________________________________________________________________________\n",
      "dense_74 (Dense)                (None, 20)           80          concatenate_30[0][0]             \n",
      "__________________________________________________________________________________________________\n",
      "dense_75 (Dense)                (None, 20)           80          concatenate_31[0][0]             \n",
      "__________________________________________________________________________________________________\n",
      "dense_76 (Dense)                (None, 20)           80          concatenate_32[0][0]             \n",
      "__________________________________________________________________________________________________\n",
      "dense_77 (Dense)                (None, 20)           80          concatenate_33[0][0]             \n",
      "__________________________________________________________________________________________________\n",
      "dense_78 (Dense)                (None, 20)           80          concatenate_34[0][0]             \n",
      "__________________________________________________________________________________________________\n",
      "dense_79 (Dense)                (None, 20)           80          concatenate_35[0][0]             \n",
      "__________________________________________________________________________________________________\n",
      "concatenate_36 (Concatenate)    (None, 220)          0           dense_69[0][0]                   \n",
      "                                                                 dense_70[0][0]                   \n",
      "                                                                 dense_71[0][0]                   \n",
      "                                                                 dense_72[0][0]                   \n",
      "                                                                 dense_73[0][0]                   \n",
      "                                                                 dense_74[0][0]                   \n",
      "                                                                 dense_75[0][0]                   \n",
      "                                                                 dense_76[0][0]                   \n",
      "                                                                 dense_77[0][0]                   \n",
      "                                                                 dense_78[0][0]                   \n",
      "                                                                 dense_79[0][0]                   \n",
      "__________________________________________________________________________________________________\n",
      "dense_80 (Dense)                (None, 3)            663         concatenate_36[0][0]             \n",
      "__________________________________________________________________________________________________\n",
      "num_cars (Dense)                (None, 1)            21          dense_69[0][0]                   \n",
      "__________________________________________________________________________________________________\n",
      "num_loads (Dense)               (None, 1)            21          dense_70[0][0]                   \n",
      "__________________________________________________________________________________________________\n",
      "num_wheels (Dense)              (None, 1)            21          dense_71[0][0]                   \n",
      "__________________________________________________________________________________________________\n",
      "length (Dense)                  (None, 1)            21          dense_72[0][0]                   \n",
      "__________________________________________________________________________________________________\n",
      "shape (Dense)                   (None, 1)            21          dense_73[0][0]                   \n",
      "__________________________________________________________________________________________________\n",
      "num_car_loads (Dense)           (None, 1)            21          dense_74[0][0]                   \n",
      "__________________________________________________________________________________________________\n",
      "load_shape (Dense)              (None, 1)            21          dense_75[0][0]                   \n",
      "__________________________________________________________________________________________________\n",
      "next_crc (Dense)                (None, 1)            21          dense_76[0][0]                   \n",
      "__________________________________________________________________________________________________\n",
      "next_hex (Dense)                (None, 1)            21          dense_77[0][0]                   \n",
      "__________________________________________________________________________________________________\n",
      "next_rec (Dense)                (None, 1)            21          dense_78[0][0]                   \n",
      "__________________________________________________________________________________________________\n",
      "next_tri (Dense)                (None, 1)            21          dense_79[0][0]                   \n",
      "__________________________________________________________________________________________________\n",
      "east (Dense)                    (None, 1)            4           dense_80[0][0]                   \n",
      "==================================================================================================\n",
      "Total params: 1,738\n",
      "Trainable params: 1,738\n",
      "Non-trainable params: 0\n",
      "__________________________________________________________________________________________________\n"
     ]
    }
   ],
   "source": [
    "def model_2():\n",
    "    # features\n",
    "    t = Input(shape=(1,), name='t')\n",
    "    c = Input(shape=(1,), name='c')\n",
    "    w = Input(shape=(1,), name='w')\n",
    "    l = Input(shape=(1,), name='l')\n",
    "    s = Input(shape=(1,), name='s')\n",
    "    nc = Input(shape=(1,), name='nc')\n",
    "    ls = Input(shape=(1,), name='ls')\n",
    "    nl = Input(shape=(1,), name='nl')\n",
    "    ncl = Input(shape=(1,), name='ncl')\n",
    "    x_crc = Input(shape=(1,), name='x_crc')\n",
    "    x_hex = Input(shape=(1,), name='x_hex')\n",
    "    x_rec = Input(shape=(1,), name='x_rec')\n",
    "    x_tri = Input(shape=(1,), name='x_tri')\n",
    "\n",
    "    # num_cars(t,nc)\n",
    "    num_cars_ = concatenate([t, nc])\n",
    "    num_cars_ = Dense(20, activation='relu')(num_cars_)\n",
    "    num_cars = Dense(1, activation='sigmoid', name='num_cars')(num_cars_)\n",
    "    num_cars = Model(inputs=[t, nc], outputs=num_cars)\n",
    "\n",
    "    # num_loads(t,nl)\n",
    "    num_loads_ = concatenate([t, nl])\n",
    "    num_loads_ = Dense(20, activation='relu')(num_loads_)\n",
    "    num_loads = Dense(1, activation='sigmoid', name='num_loads')(num_loads_)\n",
    "    num_loads = Model(inputs=[t, nl], outputs=num_loads)\n",
    "\n",
    "    # num_wheels(t,c,w)\n",
    "    num_wheels_ = concatenate([t, c, w])\n",
    "    num_wheels_ = Dense(20, activation='relu')(num_wheels_)\n",
    "    num_wheels = Dense(1, activation='sigmoid', name='num_wheels')(num_wheels_)\n",
    "    num_wheels = Model(inputs=[t, c, w], outputs=num_wheels)\n",
    "\n",
    "    # length(t,c,l)\n",
    "    length_ = concatenate([t, c, l])\n",
    "    length_ = Dense(20, activation='relu')(length_)\n",
    "    length = Dense(1, activation='sigmoid', name='length')(length_)\n",
    "    length = Model(inputs=[t, c, l], outputs=length)\n",
    "\n",
    "    # shape(t,c,s)\n",
    "    shape_ = concatenate([t, c, s])\n",
    "    shape_ = Dense(20, activation='relu')(shape_)\n",
    "    shape = Dense(1, activation='sigmoid', name='shape')(shape_)\n",
    "    shape = Model(inputs=[t, c, s], outputs=shape)\n",
    "\n",
    "    # num_car_loads(t,c,ncl)\n",
    "    num_car_loads_ = concatenate([t, c, ncl])\n",
    "    num_car_loads_ = Dense(20, activation='relu')(num_car_loads_)\n",
    "    num_car_loads = Dense(1, activation='sigmoid',\n",
    "                          name='num_car_loads')(num_car_loads_)\n",
    "    num_car_loads = Model(inputs=[t, c, ncl], outputs=num_car_loads)\n",
    "\n",
    "    # load_shape(t,c,ls)\n",
    "    load_shape_ = concatenate([t, c, ls])\n",
    "    load_shape_ = Dense(20, activation='relu')(load_shape_)\n",
    "    load_shape = Dense(1, activation='sigmoid', name='load_shape')(load_shape_)\n",
    "    load_shape = Model(inputs=[t, c, ls], outputs=load_shape)\n",
    "\n",
    "    # next_crc(t,c,x)\n",
    "    next_crc_ = concatenate([t, c, x_crc])\n",
    "    next_crc_ = Dense(20, activation='relu')(next_crc_)\n",
    "    next_crc = Dense(1, activation='sigmoid', name='next_crc')(next_crc_)\n",
    "    next_crc = Model(inputs=[t, c, x_crc], outputs=next_crc)\n",
    "\n",
    "    # next_hex_(t,c,x)\n",
    "    next_hex_ = concatenate([t, c, x_hex])\n",
    "    next_hex_ = Dense(20, activation='relu')(next_hex_)\n",
    "    next_hex = Dense(1, activation='sigmoid', name='next_hex')(next_hex_)\n",
    "    next_hex = Model(inputs=[t, c, x_hex], outputs=next_hex)\n",
    "\n",
    "    # next_rec(t,c,x)\n",
    "    next_rec_ = concatenate([t, c, x_rec])\n",
    "    next_rec_ = Dense(20, activation='relu')(next_rec_)\n",
    "    next_rec = Dense(1, activation='sigmoid', name='next_rec')(next_rec_)\n",
    "    next_rec = Model(inputs=[t, c, x_rec], outputs=next_rec)\n",
    "\n",
    "    # next_tri(t,c,x)\n",
    "    next_tri_ = concatenate([t, c, x_tri])\n",
    "    next_tri_ = Dense(20, activation='relu')(next_tri_)\n",
    "    next_tri = Dense(1, activation='sigmoid', name='next_tri')(next_tri_)\n",
    "    next_tri = Model(inputs=[t, c, x_tri], outputs=next_tri)\n",
    "\n",
    "    # east\n",
    "    east = concatenate([\n",
    "        num_cars_,\n",
    "        num_loads_,\n",
    "        num_wheels_,\n",
    "        length_,\n",
    "        shape_,\n",
    "        num_car_loads_,\n",
    "        load_shape_,\n",
    "        next_crc_,\n",
    "        next_hex_,\n",
    "        next_rec_,\n",
    "        next_tri_\n",
    "    ])\n",
    "    east = Dense(3, activation='relu')(east)\n",
    "    east = Dense(1, activation='sigmoid', name='east')(east)\n",
    "    east = Model(inputs=[t, c, w, l, s, nc, ls, nl, ncl,\n",
    "                 x_crc, x_hex, x_rec, x_tri], outputs=east)\n",
    "\n",
    "    # metanet\n",
    "    metanet = Model(\n",
    "        inputs=east.inputs,\n",
    "        outputs=[\n",
    "            num_cars.output,\n",
    "            num_loads.output,\n",
    "            num_wheels.output,\n",
    "            length.output,\n",
    "            shape.output,\n",
    "            num_car_loads.output,\n",
    "            load_shape.output,\n",
    "            next_crc.output,\n",
    "            next_hex.output,\n",
    "            next_rec.output,\n",
    "            next_tri.output,\n",
    "            east.output\n",
    "        ])\n",
    "\n",
    "    # rules\n",
    "    rules = {\n",
    "        'num_cars': num_cars,\n",
    "        'num_loads': num_loads,\n",
    "        'num_wheels': num_wheels,\n",
    "        'length': length,\n",
    "        'shape': shape,\n",
    "        'num_car_loads': num_car_loads,\n",
    "        'load_shape': load_shape,\n",
    "        'next_crc': next_crc,\n",
    "        'next_hex': next_hex,\n",
    "        'next_rec': next_rec,\n",
    "        'next_tri': next_tri,\n",
    "    }\n",
    "\n",
    "    return metanet, east, rules\n",
    "\n",
    "\n",
    "metanet, east, rules = model_2()\n",
    "metanet.summary()\n"
   ]
  },
  {
   "cell_type": "code",
   "execution_count": 49,
   "metadata": {
    "colab": {
     "base_uri": "https://localhost:8080/",
     "height": 584
    },
    "colab_type": "code",
    "id": "9P3AzfUx_wRZ",
    "outputId": "53e73c80-d531-48e7-8304-4df1f75c8933"
   },
   "outputs": [
    {
     "data": {
      "image/png": "[encoded data removed]",
      "text/plain": [
       "<IPython.core.display.Image object>"
      ]
     },
     "execution_count": 49,
     "metadata": {
      "tags": []
     },
     "output_type": "execute_result"
    }
   ],
   "source": [
    "plot_model(metanet, show_shapes=False, show_layer_names=True)"
   ]
  },
  {
   "cell_type": "markdown",
   "metadata": {
    "colab_type": "text",
    "id": "RRtn9f_N1_8s"
   },
   "source": [
    "### Data Augmentation"
   ]
  },
  {
   "cell_type": "code",
   "execution_count": null,
   "metadata": {
    "colab": {
     "base_uri": "https://localhost:8080/",
     "height": 381
    },
    "colab_type": "code",
    "id": "ttUckQrg1oHA",
    "outputId": "159fe3df-4c5a-4716-b30e-9208b18353cd"
   },
   "outputs": [
    {
     "data": {
      "text/plain": [
       "Number_of_cars                 5\n",
       "Number_of_different_loads      4\n",
       "num_wheels                     2\n",
       "length                         1\n",
       "shape                          6\n",
       "num_loads                      3\n",
       "load_shape                     2\n",
       "Rectangle_next_to_rectangle    0\n",
       "Rectangle_next_to_triangle     1\n",
       "Rectangle_next_to_hexagon      0\n",
       "Rectangle_next_to_circle       0\n",
       "Triangle_next_to_triangle      0\n",
       "Triangle_next_to_hexagon       1\n",
       "Triangle_next_to_circle        0\n",
       "Hexagon_next_to_hexagon        0\n",
       "Hexagon_next_to_circle         1\n",
       "Circle_next_to_circle          0\n",
       "Class_attribute                1\n",
       "car                            1\n",
       "train                          0\n",
       "Name: 0, dtype: object"
      ]
     },
     "execution_count": 7,
     "metadata": {
      "tags": []
     },
     "output_type": "execute_result"
    }
   ],
   "source": [
    "df = read_data()\n",
    "cols = [[c for c in df.columns if not (str.isdigit(\n",
    "    c[-1])) or (str.isdigit(c[-1]) and int(c[-1]) == n)] for n in range(1, 5)]\n",
    "\n",
    "data = [df[col] for col in cols]\n",
    "for c, df in enumerate(data):\n",
    "    df.columns = [name if not str.isdigit(\n",
    "        name[-1]) else name[:-1] for name in df.columns]\n",
    "    df['car'] = c+1\n",
    "\n",
    "data = pd.concat(data)\n",
    "data.reset_index(level=0, inplace=True)\n",
    "data['train'] = data.pop('index')\n",
    "data.T[0]\n"
   ]
  },
  {
   "cell_type": "markdown",
   "metadata": {
    "colab_type": "text",
    "id": "sw7ws74MnHZc"
   },
   "source": [
    "### Train"
   ]
  },
  {
   "cell_type": "code",
   "execution_count": null,
   "metadata": {
    "colab": {},
    "colab_type": "code",
    "id": "kSDtoAXF4ziw"
   },
   "outputs": [],
   "source": [
    "def sort_inputs(X):\n",
    "    t = X['train'].T\n",
    "    c = X['car'].T\n",
    "    w = X['num_wheels'].T\n",
    "    l = X['length'].T\n",
    "    s = X['shape'].T\n",
    "    nc = X['Number_of_cars'].T\n",
    "    ls = X['load_shape'].T\n",
    "    nl = X['Number_of_different_loads'].T\n",
    "    ncl = X['num_loads'].T\n",
    "    x_crc = np.sum(X[[col for col in X if col.endswith('circle')]], axis=1).T\n",
    "    x_hex = np.sum(X[[col for col in X if col.endswith('hexagon')]], axis=1).T\n",
    "    x_rec = np.sum(\n",
    "        X[[col for col in X if col.endswith('rectangle')]], axis=1).T\n",
    "    x_tri = np.sum(X[[col for col in X if col.endswith('triangle')]], axis=1).T\n",
    "\n",
    "    return [t, c, w, l, s, nc, ls, nl, ncl, x_crc, x_hex, x_rec, x_tri]\n",
    "\n",
    "\n",
    "def split(data, val_train):\n",
    "    x_train = data.query(f'train != {val_train}')\n",
    "    x_test = data.query(f'train == {val_train}')\n",
    "    y_train = np.array(x_train.pop('Class_attribute'))\n",
    "    y_test = np.array(x_test.pop('Class_attribute'))\n",
    "    x_train = sort_inputs(x_train)\n",
    "    x_test = sort_inputs(x_test)\n",
    "\n",
    "    return x_train, x_test, y_train, y_test\n"
   ]
  },
  {
   "cell_type": "code",
   "execution_count": null,
   "metadata": {
    "colab": {
     "base_uri": "https://localhost:8080/",
     "height": 34
    },
    "colab_type": "code",
    "id": "puqmQMPs1fZE",
    "outputId": "94465cf3-e823-48fd-9fac-62a2ed21ff2f"
   },
   "outputs": [
    {
     "name": "stderr",
     "output_type": "stream",
     "text": [
      "100%|██████████| 10/10 [03:01<00:00, 20.08s/it]\n"
     ]
    }
   ],
   "source": [
    "hists = dict()\n",
    "question_2_names = [\n",
    "    'Train',\n",
    "    'Cars Accuracy',\n",
    "    'Output of flat network',\n",
    "    'Desired output',\n",
    "    'Class'\n",
    "]\n",
    "question_2 = {name: [] for name in question_2_names}\n",
    "\n",
    "for validation_i in tqdm.tqdm(range(0, 10)):\n",
    "    x_train, x_test, y_train, y_test = split(data, validation_i)\n",
    "    metanet, east, rules = model_2()\n",
    "\n",
    "    x_train = np.asarray(x_train).astype(np.int)\n",
    "    y_train = np.asarray(y_train).astype(np.int)\n",
    "    x_test = np.asarray(x_test).astype(np.int)\n",
    "    y_test = np.asarray(y_test).astype(np.int)\n",
    "    y_train2 = y_train.reshape(36, 1)\n",
    "    print(f'after - y_train2 -> {len(y_train)}, {y_train}')\n",
    "\n",
    "#   print(x_train)\n",
    "\n",
    "    east.compile(\n",
    "        loss=binary_crossentropy,\n",
    "        optimizer=RAdam(),\n",
    "        metrics=['mse', 'binary_accuracy'])\n",
    "    hist = east.fit(\n",
    "        x_train,\n",
    "        y_train2,\n",
    "        validation_data=[x_test, y_test],\n",
    "        epochs=1000,\n",
    "        verbose=0,)\n",
    "    hists[validation_i] = hist\n",
    "\n",
    "    question_2['Train'].append(validation_i)\n",
    "    question_2['Output of flat network'].append(east.predict(x_test)[0][0])\n",
    "    question_2['Desired output'].append(y_test[0])\n",
    "    question_2['Class'].append(str_att['Class_attribute'][int(y_test[0])])\n"
   ]
  },
  {
   "cell_type": "markdown",
   "metadata": {
    "colab_type": "text",
    "id": "UXmqXT_VnDyN"
   },
   "source": [
    "### Results"
   ]
  },
  {
   "cell_type": "code",
   "execution_count": null,
   "metadata": {
    "colab": {
     "base_uri": "https://localhost:8080/",
     "height": 294
    },
    "colab_type": "code",
    "id": "YGWehNEenB5s",
    "outputId": "98417b72-ff74-4a42-b000-1303b1c47b0e"
   },
   "outputs": [
    {
     "data": {
      "image/png": "[encoded data removed]",
      "text/plain": [
       "<Figure size 432x288 with 1 Axes>"
      ]
     },
     "metadata": {
      "tags": []
     },
     "output_type": "display_data"
    }
   ],
   "source": [
    "for i, history in enumerate(hists.values()):\n",
    "    plt.plot(history.history['mse'], c='tab:blue')\n",
    "    plt.plot(history.history['val_mse'], c='tab:orange')\n",
    "\n",
    "plt.title('model mean_squared_error')\n",
    "plt.ylabel('MSE')\n",
    "plt.xlabel('epoch')\n",
    "plt.legend(['train', 'val'], loc='upper left')\n",
    "plt.show()\n"
   ]
  },
  {
   "cell_type": "code",
   "execution_count": null,
   "metadata": {
    "colab": {
     "base_uri": "https://localhost:8080/",
     "height": 294
    },
    "colab_type": "code",
    "id": "WDEeJ3ec4F51",
    "outputId": "6452f7e5-b8da-465b-f6ff-474b73f9256c"
   },
   "outputs": [
    {
     "data": {
      "image/png": "[encoded data removed]",
      "text/plain": [
       "<Figure size 432x288 with 1 Axes>"
      ]
     },
     "metadata": {
      "tags": []
     },
     "output_type": "display_data"
    }
   ],
   "source": [
    "for i, history in enumerate(hists.values()):\n",
    "    plt.plot(history.history['binary_accuracy'], c='tab:blue')\n",
    "    plt.plot(history.history['val_binary_accuracy'], c='tab:orange')\n",
    "\n",
    "plt.title('model binary_accuracy')\n",
    "plt.ylabel('MSE')\n",
    "plt.xlabel('epoch')\n",
    "plt.legend(['train', 'val'], loc='upper left')\n",
    "plt.show()\n"
   ]
  },
  {
   "cell_type": "code",
   "execution_count": null,
   "metadata": {
    "colab": {
     "base_uri": "https://localhost:8080/",
     "height": 356
    },
    "colab_type": "code",
    "id": "KoX5BURlAktl",
    "outputId": "87b5e62d-efed-4d7d-ddad-5dc7c8a4988f"
   },
   "outputs": [
    {
     "data": {
      "text/html": [
       "<div>\n",
       "<style scoped>\n",
       "    .dataframe tbody tr th:only-of-type {\n",
       "        vertical-align: middle;\n",
       "    }\n",
       "\n",
       "    .dataframe tbody tr th {\n",
       "        vertical-align: top;\n",
       "    }\n",
       "\n",
       "    .dataframe thead th {\n",
       "        text-align: right;\n",
       "    }\n",
       "</style>\n",
       "<table border=\"1\" class=\"dataframe\">\n",
       "  <thead>\n",
       "    <tr style=\"text-align: right;\">\n",
       "      <th></th>\n",
       "      <th>Train</th>\n",
       "      <th>Cars Accuracy</th>\n",
       "      <th>Output of flat network</th>\n",
       "      <th>Desired output</th>\n",
       "      <th>Class</th>\n",
       "    </tr>\n",
       "  </thead>\n",
       "  <tbody>\n",
       "    <tr>\n",
       "      <th>0</th>\n",
       "      <td>0</td>\n",
       "      <td>1.0</td>\n",
       "      <td>0.73</td>\n",
       "      <td>1</td>\n",
       "      <td>east</td>\n",
       "    </tr>\n",
       "    <tr>\n",
       "      <th>1</th>\n",
       "      <td>1</td>\n",
       "      <td>1.0</td>\n",
       "      <td>1.00</td>\n",
       "      <td>1</td>\n",
       "      <td>east</td>\n",
       "    </tr>\n",
       "    <tr>\n",
       "      <th>2</th>\n",
       "      <td>2</td>\n",
       "      <td>1.0</td>\n",
       "      <td>0.99</td>\n",
       "      <td>1</td>\n",
       "      <td>east</td>\n",
       "    </tr>\n",
       "    <tr>\n",
       "      <th>3</th>\n",
       "      <td>3</td>\n",
       "      <td>1.0</td>\n",
       "      <td>1.00</td>\n",
       "      <td>1</td>\n",
       "      <td>east</td>\n",
       "    </tr>\n",
       "    <tr>\n",
       "      <th>4</th>\n",
       "      <td>4</td>\n",
       "      <td>1.0</td>\n",
       "      <td>0.74</td>\n",
       "      <td>1</td>\n",
       "      <td>east</td>\n",
       "    </tr>\n",
       "    <tr>\n",
       "      <th>5</th>\n",
       "      <td>5</td>\n",
       "      <td>1.0</td>\n",
       "      <td>0.01</td>\n",
       "      <td>0</td>\n",
       "      <td>west</td>\n",
       "    </tr>\n",
       "    <tr>\n",
       "      <th>6</th>\n",
       "      <td>6</td>\n",
       "      <td>1.0</td>\n",
       "      <td>0.00</td>\n",
       "      <td>0</td>\n",
       "      <td>west</td>\n",
       "    </tr>\n",
       "    <tr>\n",
       "      <th>7</th>\n",
       "      <td>7</td>\n",
       "      <td>1.0</td>\n",
       "      <td>0.00</td>\n",
       "      <td>0</td>\n",
       "      <td>west</td>\n",
       "    </tr>\n",
       "    <tr>\n",
       "      <th>8</th>\n",
       "      <td>8</td>\n",
       "      <td>1.0</td>\n",
       "      <td>0.00</td>\n",
       "      <td>0</td>\n",
       "      <td>west</td>\n",
       "    </tr>\n",
       "    <tr>\n",
       "      <th>9</th>\n",
       "      <td>9</td>\n",
       "      <td>1.0</td>\n",
       "      <td>0.00</td>\n",
       "      <td>0</td>\n",
       "      <td>west</td>\n",
       "    </tr>\n",
       "  </tbody>\n",
       "</table>\n",
       "</div>"
      ],
      "text/plain": [
       "   Train  Cars Accuracy  Output of flat network  Desired output Class\n",
       "0      0            1.0                    0.73               1  east\n",
       "1      1            1.0                    1.00               1  east\n",
       "2      2            1.0                    0.99               1  east\n",
       "3      3            1.0                    1.00               1  east\n",
       "4      4            1.0                    0.74               1  east\n",
       "5      5            1.0                    0.01               0  west\n",
       "6      6            1.0                    0.00               0  west\n",
       "7      7            1.0                    0.00               0  west\n",
       "8      8            1.0                    0.00               0  west\n",
       "9      9            1.0                    0.00               0  west"
      ]
     },
     "execution_count": 39,
     "metadata": {
      "tags": []
     },
     "output_type": "execute_result"
    }
   ],
   "source": [
    "t2 = pd.DataFrame.from_dict(question_2).round(2)\n",
    "t2['Cars Accuracy'] = [hists[i].history['binary_accuracy'][-1]\n",
    "                       for i in range(0, 10)]\n",
    "t2 = t2.reindex(columns=['Train', 'Cars Accuracy',\n",
    "                'Output of flat network', 'Desired output', 'Class'])\n",
    "t2\n"
   ]
  }
 ],
 "metadata": {
  "accelerator": "TPU",
  "colab": {
   "collapsed_sections": [
    "roshxLlK-K5g",
    "Z0PBb8FV1NEu",
    "RRtn9f_N1_8s",
    "sw7ws74MnHZc",
    "UXmqXT_VnDyN"
   ],
   "include_colab_link": true,
   "name": "NeuralSymbolic-Demo.ipynb",
   "provenance": []
  },
  "kernelspec": {
   "display_name": "Python 3.10.7 64-bit",
   "language": "python",
   "name": "python3"
  },
  "language_info": {
   "codemirror_mode": {
    "name": "ipython",
    "version": 3
   },
   "file_extension": ".py",
   "mimetype": "text/x-python",
   "name": "python",
   "nbconvert_exporter": "python",
   "pygments_lexer": "ipython3",
   "version": "3.10.7"
  },
  "vscode": {
   "interpreter": {
    "hash": "369f2c481f4da34e4445cda3fffd2e751bd1c4d706f27375911949ba6bb62e1c"
   }
  }
 },
 "nbformat": 4,
 "nbformat_minor": 1
}
